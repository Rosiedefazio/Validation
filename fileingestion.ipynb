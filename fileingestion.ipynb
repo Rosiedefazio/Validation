{
 "cells": [
  {
   "cell_type": "code",
   "execution_count": 13,
   "metadata": {},
   "outputs": [
    {
     "name": "stdout",
     "output_type": "stream",
     "text": [
      "Overwriting testutility.py\n"
     ]
    }
   ],
   "source": [
    "%%writefile testutility.py\n",
    "import pandas as pd\n",
    "import gc \n",
    "import logging \n",
    "import os\n",
    "import subprocess\n",
    "import yaml \n",
    "import datetime\n",
    "import re\n",
    "\n",
    "def read_config_file(filepath):\n",
    "    with open(filepath, 'r') as a:\n",
    "        try: \n",
    "            return yaml.safe_load(a)\n",
    "        except yaml.YAMLError as exc:\n",
    "            logging.error[exc]\n",
    "\n",
    "def col_header_val(df.table_config):\n",
    "    df.columns = df.columns.str.lower()\n",
    "    df.columns = df.columns.str.replace(\"'[^\\',\", \"_\", regex= True )\n",
    "    df.columns = list(map(lambda x: x.strip('_', list(df.columns))))\n",
    "    expectedcol = list(map(lambda x: x.lower(), table_config[\"columns\"]))\n",
    "    expectedcol.sort \n",
    "    df.comlumns = list(map(lambda x: x.lower(), list(df.columns)))\n",
    "    df = df.reindex(sorted(df.columns, axis=1))\n",
    "    if len(df.columns) == len(expectedcol)  and list(expectedcol) == list(df.columns):\n",
    "        print(\"passed\")\n",
    "        return 1 \n",
    "    else: \n",
    "        print(\"FAILED\")\n",
    "        return 0 "
   ]
  },
  {
   "cell_type": "code",
   "execution_count": 14,
   "metadata": {},
   "outputs": [
    {
     "name": "stdout",
     "output_type": "stream",
     "text": [
      "Overwriting file.yaml\n"
     ]
    }
   ],
   "source": [
    "%%writefile file.yaml\n",
    "file_type: csv\n",
    "dataset_name: testfile\n",
    "file_name: Combined_Flights_2021\n",
    "inbound_delimiter = \",\"\n",
    "outbound_delimiter = \"|\"\n",
    "skip_leading_rows: 1\n",
    "columns: \n",
    "    -FlightDate\n",
    "    -Airline\n",
    "    -Origin\n",
    "    -Dest\n",
    "    -Cancelled\n",
    "    -Diverted\n",
    "    -CRSDepTime\n",
    "    -DepTime\n",
    "    -DepDelayMinutes\n",
    "    -DepDelay\n",
    "    -ArrTime\n",
    "    -ArrDelayMinutes\n",
    "    -AirTime\n",
    "    -CRSElapsedTime\n",
    "    -ActualElapsedTime\n",
    "    -Distance\n",
    "    -Year\n",
    "    -Quarter\n",
    "    -Month\n",
    "    -DayofMonth\n",
    "    -DayOfWeek\n",
    "    -Marketing_Airline_Network\n",
    "    -Operated_or_Branded_Code_Share_Partners\n",
    "    -DOT_ID_Marketing_Airline\n",
    "    -IATA_Code_Marketing_Airline\n",
    "    -Flight_Number_Marketing_Airline\n",
    "    -Operating_Airline\n",
    "    -DOT_ID_Operating_Airline\n",
    "    -IATA_Code_Operating_Airline\n",
    "    -Tail_Number\n",
    "    -Flight_Number_Operating_Airline\n",
    "    -OriginAirportID\n",
    "    -OriginAirportSeqID\n",
    "    -OriginCityMarketID\n",
    "    -OriginCityName,\n",
    "    -OriginState\n",
    "    -OriginStateFips\n",
    "    -OriginStateName\n",
    "    -OriginWac\n",
    "    -DestAirportID\n",
    "    -DestAirportSeqID\n",
    "    -DestCityMarketID\n",
    "    -DestCityName\n",
    "    -DestState\n",
    "    -DestStateFips\n",
    "    -DestStateName\n",
    "    -DestWac\n",
    "    -DepDel15\n",
    "    -DepartureDelayGroups\n",
    "    -DepTimeBlk\n",
    "    -TaxiOut\n",
    "    -WheelsOff\n",
    "    -WheelsOn\n",
    "    -TaxiIn\n",
    "    -CRSArrTime\n",
    "    -ArrDelay\n",
    "    -ArrDel15\n",
    "    -ArrivalDelayGroups\n",
    "    -ArrTimeBlk\n",
    "    -DistanceGroup\n",
    "    -DivAirportLandings"
   ]
  },
  {
   "cell_type": "code",
   "execution_count": null,
   "metadata": {},
   "outputs": [],
   "source": [
    "import testutility as util\n",
    "config_data = util.read_config_file('file.yaml')\n",
    "config_data['file_type']\n"
   ]
  },
  {
   "cell_type": "code",
   "execution_count": null,
   "metadata": {},
   "outputs": [],
   "source": [
    "import pandas as pd \n",
    "df = pd.read_csv(\"Combined_Flights_2021.csv\")\n"
   ]
  },
  {
   "cell_type": "code",
   "execution_count": null,
   "metadata": {},
   "outputs": [],
   "source": [
    "import gzip \n",
    "df.to_csv(\"Combined_Flights_2021.csv.gz\", index = False, compression=\"gzip\")\n"
   ]
  }
 ],
 "metadata": {
  "kernelspec": {
   "display_name": "Python 3.10.4 64-bit",
   "language": "python",
   "name": "python3"
  },
  "language_info": {
   "codemirror_mode": {
    "name": "ipython",
    "version": 3
   },
   "file_extension": ".py",
   "mimetype": "text/x-python",
   "name": "python",
   "nbconvert_exporter": "python",
   "pygments_lexer": "ipython3",
   "version": "3.10.6"
  },
  "orig_nbformat": 4,
  "vscode": {
   "interpreter": {
    "hash": "916dbcbb3f70747c44a77c7bcd40155683ae19c65e1c03b4aa3499c5328201f1"
   }
  }
 },
 "nbformat": 4,
 "nbformat_minor": 2
}
